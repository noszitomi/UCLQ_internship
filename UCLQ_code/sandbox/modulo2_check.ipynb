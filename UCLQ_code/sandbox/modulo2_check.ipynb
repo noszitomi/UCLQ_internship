{
 "cells": [
  {
   "cell_type": "code",
   "execution_count": 6,
   "metadata": {},
   "outputs": [],
   "source": [
    "import numpy as np\n",
    "from qiskit import QuantumCircuit\n",
    "from qiskit.quantum_info import Operator"
   ]
  },
  {
   "cell_type": "code",
   "execution_count": 7,
   "metadata": {},
   "outputs": [],
   "source": [
    "pi = np.pi\n",
    "\n",
    "qc_cswapXX = QuantumCircuit(3, name='cswapXX')\n",
    "qc_cswapXX.ry(7*pi/2, 0)\n",
    "qc_cswapXX.rz(7*pi/2, 2)\n",
    "qc_cswapXX.rxx(5*pi/2, 1,2)\n",
    "qc_cswapXX.rz(3*pi/4,1)\n",
    "qc_cswapXX.rz(7*pi/4,2)\n",
    "qc_cswapXX.ry(pi/2, 2)\n",
    "qc_cswapXX.rxx(7*pi/2, 0,1)\n",
    "qc_cswapXX.ry(11*pi/4, 1)\n",
    "qc_cswapXX.rxx(7*pi/2, 1,2)\n",
    "qc_cswapXX.rxx(pi/4, 0, 2)\n",
    "qc_cswapXX.rz(pi/4, 1)\n",
    "qc_cswapXX.rxx(5*pi/2, 0,1)\n",
    "qc_cswapXX.ry(5*pi/2, 0)\n",
    "qc_cswapXX.rz(5*pi/2, 2)\n",
    "qc_cswapXX.ry(7*pi/4, 1)\n",
    "qc_cswapXX.rxx(7*pi/2, 1, 2)\n",
    "qc_cswapXX.ry(pi/2, 2)\n",
    "qc_cswapXX.rz(11*pi/4, 0)\n",
    "\n",
    "qc_cswapXX_op = Operator(qc_cswapXX)\n",
    "\n"
   ]
  },
  {
   "cell_type": "code",
   "execution_count": 8,
   "metadata": {},
   "outputs": [],
   "source": [
    "pi = np.pi\n",
    "\n",
    "qc_cswapXX_mod2 = QuantumCircuit(3, name='cswapXX')\n",
    "qc_cswapXX_mod2.ry(3*pi/2, 0)\n",
    "qc_cswapXX_mod2.rz(3*pi/2, 2)\n",
    "qc_cswapXX_mod2.rxx(pi/2, 1,2)\n",
    "qc_cswapXX_mod2.rz(3*pi/4,1)\n",
    "qc_cswapXX_mod2.rz(7*pi/4,2)\n",
    "qc_cswapXX_mod2.ry(pi/2, 2)\n",
    "qc_cswapXX_mod2.rxx(3*pi/2, 0,1)\n",
    "qc_cswapXX_mod2.ry(3*pi/4, 1)\n",
    "qc_cswapXX_mod2.rxx(3*pi/2, 1,2)\n",
    "qc_cswapXX_mod2.rxx(pi/4, 0, 2)\n",
    "qc_cswapXX_mod2.rz(pi/4, 1)\n",
    "qc_cswapXX_mod2.rxx(pi/2, 0,1)\n",
    "qc_cswapXX_mod2.ry(pi/2, 0)\n",
    "qc_cswapXX_mod2.rz(pi/2, 2)\n",
    "qc_cswapXX_mod2.ry(7*pi/4, 1)\n",
    "qc_cswapXX_mod2.rxx(3*pi/2, 1, 2)\n",
    "qc_cswapXX_mod2.ry(pi/2, 2)\n",
    "qc_cswapXX_mod2.rz(3*pi/4, 0)\n",
    "\n",
    "qc_cswapXX_mod2_op = Operator(qc_cswapXX_mod2)\n",
    "\n"
   ]
  },
  {
   "cell_type": "code",
   "execution_count": 9,
   "metadata": {},
   "outputs": [
    {
     "data": {
      "text/plain": [
       "True"
      ]
     },
     "execution_count": 9,
     "metadata": {},
     "output_type": "execute_result"
    }
   ],
   "source": [
    "qc_cswapXX_op.equiv(qc_cswapXX_mod2_op)"
   ]
  },
  {
   "cell_type": "code",
   "execution_count": null,
   "metadata": {},
   "outputs": [],
   "source": []
  }
 ],
 "metadata": {
  "kernelspec": {
   "display_name": "Python 3",
   "language": "python",
   "name": "python3"
  },
  "language_info": {
   "codemirror_mode": {
    "name": "ipython",
    "version": 3
   },
   "file_extension": ".py",
   "mimetype": "text/x-python",
   "name": "python",
   "nbconvert_exporter": "python",
   "pygments_lexer": "ipython3",
   "version": "3.11.4"
  },
  "orig_nbformat": 4
 },
 "nbformat": 4,
 "nbformat_minor": 2
}
